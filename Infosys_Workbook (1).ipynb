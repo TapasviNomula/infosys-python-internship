{
 "cells": [
  {
   "cell_type": "code",
   "execution_count": null,
   "id": "275d066c",
   "metadata": {},
   "outputs": [],
   "source": [
    "##1.Python basics"
   ]
  },
  {
   "cell_type": "code",
   "execution_count": 1,
   "id": "378a7212",
   "metadata": {},
   "outputs": [
    {
     "name": "stdout",
     "output_type": "stream",
     "text": [
      "Hello, World!\n",
      "10 3.5 Python True\n",
      "Type of c: <class 'str'>\n"
     ]
    }
   ],
   "source": [
    "# Printing a message\n",
    "print(\"Hello, World!\")\n",
    "\n",
    "# Variables and common types\n",
    "a = 10            # int\n",
    "b = 3.5           # float\n",
    "c = \"Python\"      # str\n",
    "d = True          # bool\n",
    "\n",
    "print(a, b, c, d)\n",
    "print(\"Type of c:\", type(c))"
   ]
  },
  {
   "cell_type": "code",
   "execution_count": null,
   "id": "4d2f0db5",
   "metadata": {},
   "outputs": [],
   "source": [
    "## 2. String Methods & Built-in checks"
   ]
  },
  {
   "cell_type": "code",
   "execution_count": 2,
   "id": "870ca359",
   "metadata": {},
   "outputs": [
    {
     "name": "stdout",
     "output_type": "stream",
     "text": [
      "The Planet Is Big\n",
      "rAm is RaVi\n",
      "True\n",
      "False\n",
      "False\n",
      "True\n",
      "True\n",
      "2\n",
      "15\n",
      "15\n",
      "33\n"
     ]
    }
   ],
   "source": [
    "# Title-case\n",
    "cap = \"the planet is big\".title()\n",
    "print(cap)  # -> The Planet Is Big\n",
    "\n",
    "# Swap case\n",
    "swap = \"RaM IS rAvI\".swapcase()\n",
    "print(swap)  # -> rAm is RaVi\n",
    "\n",
    "# Built-in checks\n",
    "print(\"Rahul\".isalpha())     # True\n",
    "print(\"ram2355@\".isalnum())  # False (contains @)\n",
    "print(\"H3t RAM\".isupper())   # False (not all uppercase, also contains '3')\n",
    "print(\"abc\".islower())       # True\n",
    "\n",
    "# startswith\n",
    "url = \"http://example.com\"\n",
    "print(url.startswith(\"http\"))  # True\n",
    "\n",
    "# Counting & searching\n",
    "text = \"I have a spare key, if I lose my key\"\n",
    "print(text.count(\"key\"))          # -> 2 (count all occurrences)\n",
    "print(text.find(\"key\"))           # -> first index or -1\n",
    "print(text.index(\"key\"))          # -> first index or ValueError\n",
    "print(text.rindex(\"key\"))         # -> last index or ValueError"
   ]
  },
  {
   "cell_type": "code",
   "execution_count": null,
   "id": "8b4c6f64",
   "metadata": {},
   "outputs": [],
   "source": [
    "### Concatenation, repetition & common TypeError"
   ]
  },
  {
   "cell_type": "code",
   "execution_count": 3,
   "id": "c9600267",
   "metadata": {},
   "outputs": [
    {
     "name": "stdout",
     "output_type": "stream",
     "text": [
      "Hello world\n",
      "rrrrrrrrrr\n",
      "2xyz\n"
     ]
    }
   ],
   "source": [
    "# Concatenation\n",
    "a = \"Hello\" + \" \" + \"world\"\n",
    "print(a)\n",
    "\n",
    "# Repetition\n",
    "b = \"r\" * 10\n",
    "print(b)\n",
    "\n",
    "# TypeError example (don't do this): mixing int + str with +\n",
    "# print(2 + \"xyz\")  # Uncomment to see TypeError\n",
    "# Correct approach:\n",
    "print(str(2) + \"xyz\")"
   ]
  },
  {
   "cell_type": "code",
   "execution_count": null,
   "id": "ec607e20",
   "metadata": {},
   "outputs": [],
   "source": [
    "## 3. Input/Output patterns"
   ]
  },
  {
   "cell_type": "code",
   "execution_count": 4,
   "id": "a013c9e4",
   "metadata": {},
   "outputs": [
    {
     "name": "stdout",
     "output_type": "stream",
     "text": [
      "ravi is 25 years old\n",
      "ravi is 25 years old\n"
     ]
    }
   ],
   "source": [
    "# In class you used input(); here we set sample values so the cell runs without typing\n",
    "user = \"ravi\"\n",
    "age = 25\n",
    "print(user + \" is \" + str(age) + \" years old\")\n",
    "print(f\"{user} is {age} years old\")  # f-string"
   ]
  },
  {
   "cell_type": "code",
   "execution_count": null,
   "id": "494d569a",
   "metadata": {},
   "outputs": [],
   "source": [
    "## 4. Conditionals (if / elif / else)"
   ]
  },
  {
   "cell_type": "code",
   "execution_count": 5,
   "id": "40be724b",
   "metadata": {},
   "outputs": [
    {
     "name": "stdout",
     "output_type": "stream",
     "text": [
      "False\n",
      "Trophy is Ours\n",
      "Divisible by 3 and 5\n",
      "Avg student\n"
     ]
    }
   ],
   "source": [
    "# Equality check\n",
    "print(\"win\" == \"winn\")  # False\n",
    "\n",
    "# Trophy example\n",
    "india = \"win\"  # sample value\n",
    "if india == \"win\":\n",
    "    print(\"Trophy is Ours\")\n",
    "else:\n",
    "    print(\"No Trophy\")\n",
    "\n",
    "# Divisible by 3 and 5\n",
    "a = 15  # sample\n",
    "if a % 5 == 0 and a % 3 == 0:\n",
    "    print(\"Divisible by 3 and 5\")\n",
    "else:\n",
    "    print(\"Not divisible by 3 and 5\")\n",
    "\n",
    "# Score grading\n",
    "score = 66\n",
    "if score < 35:\n",
    "    print(\"Poor student\")\n",
    "elif 35 <= score < 70:\n",
    "    print(\"Avg student\")\n",
    "elif 70 <= score <= 100:\n",
    "    print(\"Good student\")"
   ]
  },
  {
   "cell_type": "code",
   "execution_count": null,
   "id": "b422b10a",
   "metadata": {},
   "outputs": [],
   "source": [
    "## 5. Loops: for, while, break, continue, pass"
   ]
  },
  {
   "cell_type": "code",
   "execution_count": 6,
   "id": "c26a9969",
   "metadata": {},
   "outputs": [
    {
     "name": "stdout",
     "output_type": "stream",
     "text": [
      "Number: 1\n",
      "Number: 2\n",
      "Number: 3\n",
      "Number: 4\n",
      "Number: 5\n",
      "Counter: 0\n",
      "Counter: 1\n",
      "Counter: 2\n",
      "continue demo -> 0\n",
      "continue demo -> 1\n",
      "continue demo -> 2\n",
      "continue demo -> 4\n",
      "End continue\n",
      "End break (loop exited immediately)\n"
     ]
    }
   ],
   "source": [
    "# for loop\n",
    "for i in range(1, 6):\n",
    "    print(\"Number:\", i)\n",
    "\n",
    "# while loop\n",
    "counter = 0\n",
    "while counter < 3:\n",
    "    print(\"Counter:\", counter)\n",
    "    counter += 1\n",
    "\n",
    "# continue (skip when i==3)\n",
    "for i in range(5):\n",
    "    if i == 3:\n",
    "        continue\n",
    "    print(\"continue demo ->\", i)\n",
    "print(\"End continue\")\n",
    "\n",
    "# break (exit immediately)\n",
    "for i in range(5):\n",
    "    break\n",
    "print(\"End break (loop exited immediately)\")\n",
    "\n",
    "# pass (do nothing, placeholder)\n",
    "for i in range(3):\n",
    "    pass"
   ]
  },
  {
   "cell_type": "code",
   "execution_count": null,
   "id": "8ad82fd4",
   "metadata": {},
   "outputs": [],
   "source": [
    "##even/odd & multiplication table"
   ]
  },
  {
   "cell_type": "code",
   "execution_count": 7,
   "id": "13865530",
   "metadata": {},
   "outputs": [
    {
     "name": "stdout",
     "output_type": "stream",
     "text": [
      "7 is Odd\n",
      "2 x 1 = 2\n",
      "2 x 2 = 4\n",
      "2 x 3 = 6\n",
      "2 x 4 = 8\n",
      "2 x 5 = 10\n",
      "2 x 6 = 12\n",
      "2 x 7 = 14\n",
      "2 x 8 = 16\n",
      "2 x 9 = 18\n",
      "2 x 10 = 20\n",
      "5 x 1 = 5\n",
      "5 x 2 = 10\n",
      "5 x 3 = 15\n",
      "5 x 4 = 20\n",
      "5 x 5 = 25\n",
      "5 x 6 = 30\n",
      "5 x 7 = 35\n",
      "5 x 8 = 40\n",
      "5 x 9 = 45\n",
      "5 x 10 = 50\n"
     ]
    }
   ],
   "source": [
    "# Even / Odd\n",
    "num = 7\n",
    "print(num, \"is Even\" if num % 2 == 0 else \"is Odd\")\n",
    "\n",
    "# Multiplication table for 2\n",
    "for i in range(1, 11):\n",
    "    print(f\"2 x {i} = {2 * i}\")\n",
    "\n",
    "# Generic multiplication table (choose num)\n",
    "num = 5\n",
    "for i in range(1, 11):\n",
    "    print(f\"{num} x {i} = {num * i}\")"
   ]
  },
  {
   "cell_type": "code",
   "execution_count": null,
   "id": "8aa5e624",
   "metadata": {},
   "outputs": [],
   "source": [
    "## 6. Functions"
   ]
  },
  {
   "cell_type": "code",
   "execution_count": 8,
   "id": "3c1c1119",
   "metadata": {},
   "outputs": [
    {
     "name": "stdout",
     "output_type": "stream",
     "text": [
      "add_two(3, 4) -> 7\n"
     ]
    }
   ],
   "source": [
    "def add_two(a, b):\n",
    "    \"\"\"Return the sum of a and b.\"\"\"\n",
    "    return a + b\n",
    "\n",
    "print(\"add_two(3, 4) ->\", add_two(3, 4))"
   ]
  },
  {
   "cell_type": "code",
   "execution_count": 9,
   "id": "e58062ce",
   "metadata": {},
   "outputs": [
    {
     "name": "stdout",
     "output_type": "stream",
     "text": [
      "Result: 15\n"
     ]
    }
   ],
   "source": [
    "# Mini calculator without input() to show output immediately.\n",
    "op = \"add\"   # try: \"add\", \"sub\", \"mult\", \"div\"\n",
    "a, b = 10, 5\n",
    "\n",
    "if op == \"add\":\n",
    "    print(\"Result:\", a + b)\n",
    "elif op == \"sub\":\n",
    "    print(\"Result:\", a - b)\n",
    "elif op == \"mult\":\n",
    "    print(\"Result:\", a * b)\n",
    "elif op == \"div\":\n",
    "    if b != 0:\n",
    "        print(\"Result:\", a / b)\n",
    "    else:\n",
    "        print(\"Error: Division by zero!\")\n",
    "else:\n",
    "    print(\"Invalid operation!\")"
   ]
  },
  {
   "cell_type": "code",
   "execution_count": 10,
   "id": "ab91ab1a",
   "metadata": {},
   "outputs": [
    {
     "name": "stdout",
     "output_type": "stream",
     "text": [
      "Perimeter: 16\n"
     ]
    }
   ],
   "source": [
    "l, w = 5, 3  # length and width\n",
    "print(\"Perimeter:\", 2 * (l + w))"
   ]
  },
  {
   "cell_type": "code",
   "execution_count": null,
   "id": "e6967228",
   "metadata": {},
   "outputs": [],
   "source": [
    "###  Meghna Condition"
   ]
  },
  {
   "cell_type": "code",
   "execution_count": 11,
   "id": "0c39ab40",
   "metadata": {},
   "outputs": [
    {
     "name": "stdout",
     "output_type": "stream",
     "text": [
      "surya meets priya\n"
     ]
    }
   ],
   "source": [
    "meghna = \"died\"  # try \"died\" or \"alive\"\n",
    "if meghna == \"died\":\n",
    "    print(\"surya meets priya\")\n",
    "else:\n",
    "    print(\"meghna weds surya\")"
   ]
  },
  {
   "cell_type": "code",
   "execution_count": null,
   "id": "6e9eeab9",
   "metadata": {},
   "outputs": [],
   "source": [
    "##Nested Week/Day Loops##"
   ]
  },
  {
   "cell_type": "code",
   "execution_count": 12,
   "id": "4ca7ad3a",
   "metadata": {},
   "outputs": [
    {
     "name": "stdout",
     "output_type": "stream",
     "text": [
      "week 1\n",
      " day 1\n",
      " day 2\n",
      " day 3\n",
      "week 2\n",
      " day 1\n",
      " day 2\n",
      " day 3\n"
     ]
    }
   ],
   "source": [
    "for week in range(1, 3):\n",
    "    print(\"week\", week)\n",
    "    for day in range(1, 4):\n",
    "        print(\" day\", day)"
   ]
  },
  {
   "cell_type": "code",
   "execution_count": null,
   "id": "ae6a19b3",
   "metadata": {},
   "outputs": [],
   "source": [
    "##Factorial (while loop)"
   ]
  },
  {
   "cell_type": "code",
   "execution_count": 13,
   "id": "81a63ffc",
   "metadata": {},
   "outputs": [
    {
     "name": "stdout",
     "output_type": "stream",
     "text": [
      "Factorial of 5 = 120\n"
     ]
    }
   ],
   "source": [
    "n = 5\n",
    "factorial = 1\n",
    "i = 1\n",
    "while i <= n:\n",
    "    factorial *= i\n",
    "    i += 1\n",
    "print(\"Factorial of\", n, \"=\", factorial)"
   ]
  },
  {
   "cell_type": "code",
   "execution_count": 14,
   "id": "6e283d43",
   "metadata": {},
   "outputs": [
    {
     "name": "stdout",
     "output_type": "stream",
     "text": [
      "1 2 3 4\n",
      "5 6 7 8\n",
      "9 10 11 12\n",
      "13 14 15 16\n"
     ]
    }
   ],
   "source": [
    "##Square of N rows & columns using numbers starting from 1\n",
    "\n",
    "N = 4\n",
    "num = 1\n",
    "for r in range(N):\n",
    "    row_vals = []\n",
    "    for c in range(N):\n",
    "        row_vals.append(str(num))\n",
    "        num += 1\n",
    "    print(\" \".join(row_vals))"
   ]
  },
  {
   "cell_type": "code",
   "execution_count": 15,
   "id": "bc1b37a1",
   "metadata": {},
   "outputs": [
    {
     "name": "stdout",
     "output_type": "stream",
     "text": [
      "1\n",
      "1 2\n",
      "1 2 3\n",
      "1 2 3 4\n",
      "1 2 3 4 5\n",
      "    *\n",
      "   **\n",
      "  ***\n",
      " ****\n",
      "*****\n"
     ]
    }
   ],
   "source": [
    "###  Two Right-Angled Triangles (numbers & stars)\n",
    "\n",
    "N = 5\n",
    "# Triangle 1: numbers\n",
    "for i in range(1, N + 1):\n",
    "    print(*range(1, i + 1))\n",
    "\n",
    "# Triangle 2: stars\n",
    "for i in range(1, N + 1):\n",
    "    print(\" \" * (N - i) + \"*\" * i)"
   ]
  },
  {
   "cell_type": "code",
   "execution_count": 17,
   "id": "fb7a6849",
   "metadata": {},
   "outputs": [
    {
     "name": "stdout",
     "output_type": "stream",
     "text": [
      "Vowel count: 3\n"
     ]
    }
   ],
   "source": [
    " ##Count vowels in a string\n",
    "s = \"Hello, World!\"\n",
    "vowels = \"aeiouAEIOU\"\n",
    "count = sum(1 for ch in s if ch in vowels)\n",
    "print(\"Vowel count:\", count)"
   ]
  },
  {
   "cell_type": "code",
   "execution_count": 16,
   "id": "29fab2cd",
   "metadata": {},
   "outputs": [
    {
     "name": "stdout",
     "output_type": "stream",
     "text": [
      "Sum = 49772\n"
     ]
    }
   ],
   "source": [
    "##Sum of series (x^2 + (xx)^2 + (xxx)^2 + ... for N terms)\n",
    "\n",
    "x, n = 2, 3\n",
    "total = 0\n",
    "for i in range(1, n + 1):\n",
    "    term_num = int(str(x) * i)  # e.g., 2, 22, 222\n",
    "    total += term_num ** 2\n",
    "print(\"Sum =\", total)"
   ]
  },
  {
   "cell_type": "code",
   "execution_count": 18,
   "id": "70ee03ab",
   "metadata": {},
   "outputs": [
    {
     "name": "stdout",
     "output_type": "stream",
     "text": [
      "Alphabets: HllWrld\n"
     ]
    }
   ],
   "source": [
    "##Extract only alphabets from a string¶\n",
    "s = \"H3ll0 W0rld!\"\n",
    "result = \"\".join(ch for ch in s if ch.isalpha())\n",
    "print(\"Alphabets:\", result)"
   ]
  },
  {
   "cell_type": "code",
   "execution_count": 19,
   "id": "0a70b0ec",
   "metadata": {},
   "outputs": [
    {
     "name": "stdout",
     "output_type": "stream",
     "text": [
      "Uppercase letters: HIS\n"
     ]
    }
   ],
   "source": [
    "##Print all uppercase letters from a string\n",
    "s = \"Hello, I am Suhas\"\n",
    "result = \"\".join(ch for ch in s if ch.isupper())\n",
    "print(\"Uppercase letters:\", result)"
   ]
  },
  {
   "cell_type": "code",
   "execution_count": 20,
   "id": "c607e829",
   "metadata": {},
   "outputs": [
    {
     "name": "stdout",
     "output_type": "stream",
     "text": [
      "True\n"
     ]
    }
   ],
   "source": [
    "##Check if a string starts with 'http'\n",
    "url = \"http\"\n",
    "print(url.startswith(\"http\"))"
   ]
  },
  {
   "cell_type": "code",
   "execution_count": 21,
   "id": "9087e865",
   "metadata": {},
   "outputs": [
    {
     "name": "stdout",
     "output_type": "stream",
     "text": [
      "3 9 2 16 [2, 5, 9]\n",
      "calc add: 5\n"
     ]
    }
   ],
   "source": [
    "##Built-in functions: overview & calculator via functions\n",
    "# Some very common built-ins: len, type, int, float, str, sum, max, min, round, sorted, range\n",
    "nums = [5, 2, 9]\n",
    "print(len(nums), max(nums), min(nums), sum(nums), sorted(nums))\n",
    "\n",
    "# Simple calculator using functions + dict dispatch\n",
    "def add(a, b): return a + b\n",
    "def sub(a, b): return a - b\n",
    "def mul(a, b): return a * b\n",
    "def div(a, b): return a / b if b != 0 else float(\"inf\")\n",
    "\n",
    "ops = { \"add\": add, \"sub\": sub, \"mult\": mul, \"div\": div }\n",
    "print(\"calc add:\", ops[\"add\"](2, 3))"
   ]
  },
  {
   "cell_type": "code",
   "execution_count": 3,
   "id": "06f189e8",
   "metadata": {},
   "outputs": [
    {
     "name": "stdout",
     "output_type": "stream",
     "text": [
      "         pm25    pm10\n",
      "count  168.00  168.00\n",
      "mean    51.57   80.28\n",
      "std     10.81   14.37\n",
      "min     24.30   31.74\n",
      "25%     44.65   72.38\n",
      "50%     51.88   80.82\n",
      "75%     58.61   89.02\n",
      "max     78.78  118.83\n",
      "\n",
      "Correlation matrix:\n",
      "      pm25  pm10\n",
      "pm25   1.0   0.0\n",
      "pm10   0.0   1.0\n",
      "\n",
      "Daily sample:\n",
      "             pm25   pm10\n",
      "2024-01-01  51.54  79.44\n",
      "2024-01-02  55.08  80.48\n",
      "2024-01-03  52.79  78.18\n",
      "2024-01-04  53.67  81.17\n",
      "2024-01-05  48.13  78.46\n",
      "\n",
      "Features with 3-day rolling mean:\n",
      "             pm25   pm10  pm25_roll3\n",
      "2024-01-01  51.54  79.44       51.54\n",
      "2024-01-02  55.08  80.48       53.31\n",
      "2024-01-03  52.79  78.18       53.14\n",
      "2024-01-04  53.67  81.17       53.85\n",
      "2024-01-05  48.13  78.46       51.53\n"
     ]
    }
   ],
   "source": [
    "##Data Preprocessing & EDA — mini demo\n",
    "import pandas as pd\n",
    "import numpy as np\n",
    "\n",
    "# Simulate hourly air-quality-like data for a week\n",
    "rng = pd.date_range(\"2024-01-01\", periods=24*7, freq=\"h\")\n",
    "df = pd.DataFrame({\n",
    "    \"pm25\": np.random.normal(50, 10, len(rng)).clip(5),\n",
    "    \"pm10\": np.random.normal(80, 15, len(rng)).clip(10),\n",
    "}, index=rng)\n",
    "\n",
    "# Basic cleaning example\n",
    "df = df.ffill()\n",
    "\n",
    "# EDA: summary + correlations\n",
    "print(df.describe().round(2))\n",
    "print(\"\\nCorrelation matrix:\")\n",
    "print(df.corr().round(2))\n",
    "\n",
    "# Resample to daily average\n",
    "daily = df.resample(\"D\").mean(numeric_only=True)\n",
    "print(\"\\nDaily sample:\")\n",
    "print(daily.head().round(2))\n",
    "\n",
    "# Feature engineering: 3-day rolling mean\n",
    "daily[\"pm25_roll3\"] = daily[\"pm25\"].rolling(3, min_periods=1).mean()\n",
    "print(\"\\nFeatures with 3-day rolling mean:\")\n",
    "print(daily.head().round(2))"
   ]
  },
  {
   "cell_type": "markdown",
   "id": "b3fcfb72",
   "metadata": {},
   "source": [
    "```bash\n",
    "git init\n",
    "git status\n",
    "git add .\n",
    "git commit -m \"Initial commit\"\n",
    "git branch -M main\n",
    "git remote add origin https://github.com/<your-username>/<your-repo>.git\n",
    "git push -u origin main\n",
    "\n",
    "# Branching / merging\n",
    "git switch -c feature/calculator\n",
    "# ...edit files...\n",
    "git add . && git commit -m \"Add calculator assignments\"\n",
    "git switch main\n",
    "git merge feature/calculator\n",
    "git push\n",
    "```"
   ]
  },
  {
   "cell_type": "code",
   "execution_count": null,
   "id": "acfe45e9",
   "metadata": {},
   "outputs": [],
   "source": []
  }
 ],
 "metadata": {
  "kernelspec": {
   "display_name": "Python 3 (ipykernel)",
   "language": "python",
   "name": "python3"
  },
  "language_info": {
   "codemirror_mode": {
    "name": "ipython",
    "version": 3
   },
   "file_extension": ".py",
   "mimetype": "text/x-python",
   "name": "python",
   "nbconvert_exporter": "python",
   "pygments_lexer": "ipython3",
   "version": "3.11.2"
  }
 },
 "nbformat": 4,
 "nbformat_minor": 5
}
