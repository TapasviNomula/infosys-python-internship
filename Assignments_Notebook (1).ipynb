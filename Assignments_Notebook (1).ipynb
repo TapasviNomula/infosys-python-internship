{
 "cells": [
  {
   "cell_type": "code",
   "execution_count": 1,
   "id": "273f7fa4",
   "metadata": {},
   "outputs": [
    {
     "name": "stdout",
     "output_type": "stream",
     "text": [
      "Result: 15\n"
     ]
    }
   ],
   "source": [
    "##Mini Calculator\n",
    "op = \"add\"   # choose: add, sub, mult, div\n",
    "a, b = 10, 5\n",
    "if op == \"add\":\n",
    "    print(\"Result:\", a + b)\n",
    "elif op == \"sub\":\n",
    "    print(\"Result:\", a - b)\n",
    "elif op == \"mult\":\n",
    "    print(\"Result:\", a * b)\n",
    "elif op == \"div\":\n",
    "    print(\"Result:\", a / b if b != 0 else \"Error: Division by zero!\")\n",
    "else:\n",
    "    print(\"Invalid operation!\")"
   ]
  },
  {
   "cell_type": "code",
   "execution_count": 2,
   "id": "4800c2b2",
   "metadata": {},
   "outputs": [
    {
     "name": "stdout",
     "output_type": "stream",
     "text": [
      "Perimeter: 16\n"
     ]
    }
   ],
   "source": [
    "#Perimeter of Rectangle\n",
    "l, w = 5, 3\n",
    "print(\"Perimeter:\", 2 * (l + w))"
   ]
  },
  {
   "cell_type": "code",
   "execution_count": 5,
   "id": "af642347",
   "metadata": {},
   "outputs": [
    {
     "name": "stdout",
     "output_type": "stream",
     "text": [
      "surya meets priya\n"
     ]
    }
   ],
   "source": [
    "## Meghna Condition\n",
    "meghna = \"died\"  # try \"died\" or \"alive\"\n",
    "if meghna == \"died\":\n",
    "    print(\"surya meets priya\")\n",
    "else:\n",
    "  print(\"meghna weds surya\")"
   ]
  },
  {
   "cell_type": "code",
   "execution_count": 6,
   "id": "da7ebab8",
   "metadata": {},
   "outputs": [
    {
     "name": "stdout",
     "output_type": "stream",
     "text": [
      "week 1\n",
      " day 1\n",
      " day 2\n",
      " day 3\n",
      "week 2\n",
      " day 1\n",
      " day 2\n",
      " day 3\n"
     ]
    }
   ],
   "source": [
    "## Nested Week/Day Loops\n",
    "for week in range(1, 3):\n",
    "    print(\"week\", week)\n",
    "    for day in range(1, 4):\n",
    "        print(\" day\", day)"
   ]
  },
  {
   "cell_type": "code",
   "execution_count": 8,
   "id": "5a0074e8",
   "metadata": {},
   "outputs": [
    {
     "name": "stdout",
     "output_type": "stream",
     "text": [
      "Factorial: 120\n"
     ]
    }
   ],
   "source": [
    "## Factorial (while loop)\n",
    "n = 5\n",
    "fact = 1\n",
    "i = 1\n",
    "while i <= n:\n",
    "    fact *= i\n",
    "    i += 1\n",
    "print(\"Factorial:\", fact)"
   ]
  },
  {
   "cell_type": "code",
   "execution_count": 7,
   "id": "2b943ce0",
   "metadata": {},
   "outputs": [
    {
     "name": "stdout",
     "output_type": "stream",
     "text": [
      "1 2 3 4\n",
      "5 6 7 8\n",
      "9 10 11 12\n",
      "13 14 15 16\n"
     ]
    }
   ],
   "source": [
    "## Square Matrix Numbers\n",
    "N = 4\n",
    "num = 1\n",
    "for r in range(N):\n",
    "    row = []\n",
    "    for c in range(N):\n",
    "        row.append(str(num))\n",
    "        num += 1\n",
    "    print(\" \".join(row))"
   ]
  },
  {
   "cell_type": "code",
   "execution_count": 9,
   "id": "0653a161",
   "metadata": {},
   "outputs": [
    {
     "name": "stdout",
     "output_type": "stream",
     "text": [
      "1\n",
      "1 2\n",
      "1 2 3\n",
      "1 2 3 4\n",
      "1 2 3 4 5\n",
      "    *\n",
      "   **\n",
      "  ***\n",
      " ****\n",
      "*****\n"
     ]
    }
   ],
   "source": [
    "## Two Right-Angled Triangles\n",
    "N = 5\n",
    "# Triangle 1: numbers\n",
    "for i in range(1, N + 1):\n",
    "    print(*range(1, i + 1))\n",
    "\n",
    "# Triangle 2: stars\n",
    "for i in range(1, N + 1):\n",
    "    print(\" \" * (N - i) + \"*\" * i)"
   ]
  },
  {
   "cell_type": "code",
   "execution_count": 10,
   "id": "578084a6",
   "metadata": {},
   "outputs": [
    {
     "name": "stdout",
     "output_type": "stream",
     "text": [
      "Vowel count: 3\n"
     ]
    }
   ],
   "source": [
    "## Count Vowels in a String\n",
    "s = \"Hello, World!\"\n",
    "vowels = \"aeiouAEIOU\"\n",
    "count = sum(1 for ch in s if ch in vowels)\n",
    "print(\"Vowel count:\", count)"
   ]
  },
  {
   "cell_type": "code",
   "execution_count": 11,
   "id": "6c24a421",
   "metadata": {},
   "outputs": [
    {
     "name": "stdout",
     "output_type": "stream",
     "text": [
      "Sum: 49772\n"
     ]
    }
   ],
   "source": [
    "## Sum of Series (x² + (xx)² + …)\n",
    "x, n = 2, 3\n",
    "total = 0\n",
    "for i in range(1, n + 1):\n",
    "    total += int(str(x) * i) ** 2\n",
    "print(\"Sum:\", total)"
   ]
  },
  {
   "cell_type": "code",
   "execution_count": 12,
   "id": "4f88ae0c",
   "metadata": {},
   "outputs": [
    {
     "name": "stdout",
     "output_type": "stream",
     "text": [
      "Alphabets: HllWrld\n"
     ]
    }
   ],
   "source": [
    "## Extract Alphabets from String\n",
    "s = \"H3ll0 W0rld!\"\n",
    "result = \"\".join(ch for ch in s if ch.isalpha())\n",
    "print(\"Alphabets:\", result)"
   ]
  },
  {
   "cell_type": "code",
   "execution_count": 13,
   "id": "161544b6",
   "metadata": {},
   "outputs": [
    {
     "name": "stdout",
     "output_type": "stream",
     "text": [
      "Uppercase letters: HIS\n"
     ]
    }
   ],
   "source": [
    "## Extract Uppercase Letters\n",
    "s = \"Hello, I am Suhas\"\n",
    "print(\"Uppercase letters:\", \"\".join(ch for ch in s if ch.isupper()))"
   ]
  },
  {
   "cell_type": "code",
   "execution_count": 14,
   "id": "b633f243",
   "metadata": {},
   "outputs": [
    {
     "name": "stdout",
     "output_type": "stream",
     "text": [
      "Starts with http? True\n"
     ]
    }
   ],
   "source": [
    "## Check if String starts with 'http'\n",
    "url = \"http://example.com\"\n",
    "print(\"Starts with http?\", url.startswith(\"http\"))"
   ]
  },
  {
   "cell_type": "code",
   "execution_count": null,
   "id": "2b586426",
   "metadata": {},
   "outputs": [],
   "source": [
    "## Odd/Even Check\n",
    "num = 7\n",
    "print(num, \"is Even\" if num % 2 == 0 else \"is Odd\")"
   ]
  },
  {
   "cell_type": "code",
   "execution_count": null,
   "id": "ff3ce1ed",
   "metadata": {},
   "outputs": [],
   "source": [
    "## Multiplication Table\n",
    "num = 5\n",
    "for i in range(1, 11):\n",
    "    print(f\"{num} x {i} = {num * i}\")"
   ]
  },
  {
   "cell_type": "code",
   "execution_count": 15,
   "id": "9e8a5594",
   "metadata": {},
   "outputs": [
    {
     "name": "stdout",
     "output_type": "stream",
     "text": [
      "title: The Planet Is Big\n",
      "swapcase: rAm is RaVi\n",
      "'Rahul'.isalpha(): True\n",
      "'ram2355@'.isalnum(): False\n",
      "'H3t RAM'.isupper(): False\n",
      "count('key'): 2\n",
      "find('key'): 15\n",
      "index('key'): 15\n",
      "rindex('key'): 33\n"
     ]
    }
   ],
   "source": [
    "## String Methods Demo\n",
    "s = \"RaM IS rAvI\"\n",
    "print(\"title:\", \"the planet is big\".title())\n",
    "print(\"swapcase:\", s.swapcase())\n",
    "print(\"'Rahul'.isalpha():\", \"Rahul\".isalpha())\n",
    "print(\"'ram2355@'.isalnum():\", \"ram2355@\".isalnum())\n",
    "print(\"'H3t RAM'.isupper():\", \"H3t RAM\".isupper())\n",
    "text = \"I have a spare key, if I lose my key\"\n",
    "print(\"count('key'):\", text.count(\"key\"))\n",
    "print(\"find('key'):\", text.find(\"key\"))\n",
    "print(\"index('key'):\", text.index(\"key\"))\n",
    "print(\"rindex('key'):\", text.rindex(\"key\"))"
   ]
  },
  {
   "cell_type": "code",
   "execution_count": null,
   "id": "01c55984",
   "metadata": {},
   "outputs": [],
   "source": [
    "for i in range(5):\n",
    "    if i == 3:\n",
    "        continue\n",
    "    print(\"continue demo ->\", i)\n",
    "print(\"End continue\")\n",
    "\n",
    "for i in range(5):\n",
    "    break\n",
    "print(\"End break\")\n",
    "\n",
    "for i in range(3):\n",
    "    pass"
   ]
  },
  {
   "cell_type": "markdown",
   "id": "06ced100",
   "metadata": {},
   "source": [
    "## Concatenation, Repetition & TypeError Demo"
   ]
  },
  {
   "cell_type": "code",
   "execution_count": null,
   "id": "34b9bcda",
   "metadata": {},
   "outputs": [],
   "source": [
    "print(\"Hello\" + \" \" + \"world\")\n",
    "print(\"r\" * 10)\n",
    "print(str(2) + \"xyz\")"
   ]
  },
  {
   "cell_type": "markdown",
   "id": "22717b69",
   "metadata": {},
   "source": [
    "## Calculator with Functions"
   ]
  },
  {
   "cell_type": "code",
   "execution_count": null,
   "id": "f80c7593",
   "metadata": {},
   "outputs": [],
   "source": [
    "def add(a, b): return a + b\n",
    "def sub(a, b): return a - b\n",
    "def mul(a, b): return a * b\n",
    "def div(a, b): return a / b if b != 0 else float(\"inf\")\n",
    "\n",
    "ops = {\"add\": add, \"sub\": sub, \"mult\": mul, \"div\": div}\n",
    "print(\"add(2,3) ->\", ops[\"add\"](2,3))"
   ]
  }
 ],
 "metadata": {
  "kernelspec": {
   "display_name": "Python 3 (ipykernel)",
   "language": "python",
   "name": "python3"
  },
  "language_info": {
   "codemirror_mode": {
    "name": "ipython",
    "version": 3
   },
   "file_extension": ".py",
   "mimetype": "text/x-python",
   "name": "python",
   "nbconvert_exporter": "python",
   "pygments_lexer": "ipython3",
   "version": "3.11.2"
  }
 },
 "nbformat": 4,
 "nbformat_minor": 5
}
